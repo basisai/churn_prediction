{
 "cells": [
  {
   "cell_type": "markdown",
   "metadata": {},
   "source": [
    "# Customer Churn Prediction"
   ]
  },
  {
   "cell_type": "code",
   "execution_count": 1,
   "metadata": {},
   "outputs": [],
   "source": [
    "import numpy as np\n",
    "import pandas as pd\n",
    "import lightgbm as lgb\n",
    "import seaborn as sns\n",
    "import matplotlib.pyplot as plt\n",
    "\n",
    "from bdrk.model_analyzer import ModelAnalyzer, ModelTypes\n",
    "\n",
    "from utils import lgb_roc_auc_score, print_results, plot_pr_curve, plot_roc_curve\n",
    "\n",
    "sns.set()\n",
    "%matplotlib inline\n",
    "%load_ext autoreload\n",
    "%autoreload 2"
   ]
  },
  {
   "cell_type": "code",
   "execution_count": 2,
   "metadata": {},
   "outputs": [],
   "source": [
    "# Parameter config\n",
    "LR = 0.05\n",
    "NUM_LEAVES = 10\n",
    "N_ESTIMATORS = 100\n",
    "OUTPUT_MODEL = \"data/lgb_model.pkl\""
   ]
  },
  {
   "cell_type": "markdown",
   "metadata": {},
   "source": [
    "## EDA - data deepdive\n",
    "\n",
    "The first task in any data science or ML project is to understand and clean the data.\n",
    "\n",
    "- Understand the data types for each feature\n",
    "- Look for anomalies and missing values\n",
    "- Understand the distributions for each feature"
   ]
  },
  {
   "cell_type": "code",
   "execution_count": 3,
   "metadata": {
    "scrolled": true
   },
   "outputs": [
    {
     "name": "stderr",
     "output_type": "stream",
     "text": [
      "The 'numba.jitclass' decorator has moved to 'numba.experimental.jitclass' to better reflect the experimental nature of the functionality. Please update your imports to accommodate this change and see https://numba.pydata.org/numba-doc/latest/reference/deprecation.html#change-of-jitclass-location for the time frame.\n",
      "The 'numba.jitclass' decorator has moved to 'numba.experimental.jitclass' to better reflect the experimental nature of the functionality. Please update your imports to accommodate this change and see https://numba.pydata.org/numba-doc/latest/reference/deprecation.html#change-of-jitclass-location for the time frame.\n"
     ]
    },
    {
     "data": {
      "text/html": [
       "<div>\n",
       "<style scoped>\n",
       "    .dataframe tbody tr th:only-of-type {\n",
       "        vertical-align: middle;\n",
       "    }\n",
       "\n",
       "    .dataframe tbody tr th {\n",
       "        vertical-align: top;\n",
       "    }\n",
       "\n",
       "    .dataframe thead th {\n",
       "        text-align: right;\n",
       "    }\n",
       "</style>\n",
       "<table border=\"1\" class=\"dataframe\">\n",
       "  <thead>\n",
       "    <tr style=\"text-align: right;\">\n",
       "      <th></th>\n",
       "      <th>User_id</th>\n",
       "      <th>State</th>\n",
       "      <th>Tenure</th>\n",
       "      <th>Area_Code</th>\n",
       "      <th>Phone</th>\n",
       "      <th>Intl_Plan</th>\n",
       "      <th>VMail_Plan</th>\n",
       "      <th>VMail_Message</th>\n",
       "      <th>CustServ_Calls</th>\n",
       "      <th>Churn</th>\n",
       "    </tr>\n",
       "  </thead>\n",
       "  <tbody>\n",
       "    <tr>\n",
       "      <th>0</th>\n",
       "      <td>cfcd208495d565ef66e7dff9f98764da</td>\n",
       "      <td>KS</td>\n",
       "      <td>128</td>\n",
       "      <td>415</td>\n",
       "      <td>382-4657</td>\n",
       "      <td>no</td>\n",
       "      <td>yes</td>\n",
       "      <td>25</td>\n",
       "      <td>1</td>\n",
       "      <td>no</td>\n",
       "    </tr>\n",
       "    <tr>\n",
       "      <th>1</th>\n",
       "      <td>c4ca4238a0b923820dcc509a6f75849b</td>\n",
       "      <td>OH</td>\n",
       "      <td>107</td>\n",
       "      <td>415</td>\n",
       "      <td>371-7191</td>\n",
       "      <td>no</td>\n",
       "      <td>yes</td>\n",
       "      <td>26</td>\n",
       "      <td>1</td>\n",
       "      <td>no</td>\n",
       "    </tr>\n",
       "    <tr>\n",
       "      <th>2</th>\n",
       "      <td>c81e728d9d4c2f636f067f89cc14862c</td>\n",
       "      <td>NJ</td>\n",
       "      <td>137</td>\n",
       "      <td>415</td>\n",
       "      <td>358-1921</td>\n",
       "      <td>no</td>\n",
       "      <td>no</td>\n",
       "      <td>0</td>\n",
       "      <td>0</td>\n",
       "      <td>no</td>\n",
       "    </tr>\n",
       "    <tr>\n",
       "      <th>3</th>\n",
       "      <td>eccbc87e4b5ce2fe28308fd9f2a7baf3</td>\n",
       "      <td>OH</td>\n",
       "      <td>84</td>\n",
       "      <td>408</td>\n",
       "      <td>375-9999</td>\n",
       "      <td>yes</td>\n",
       "      <td>no</td>\n",
       "      <td>0</td>\n",
       "      <td>2</td>\n",
       "      <td>no</td>\n",
       "    </tr>\n",
       "    <tr>\n",
       "      <th>4</th>\n",
       "      <td>a87ff679a2f3e71d9181a67b7542122c</td>\n",
       "      <td>OK</td>\n",
       "      <td>75</td>\n",
       "      <td>415</td>\n",
       "      <td>330-6626</td>\n",
       "      <td>yes</td>\n",
       "      <td>no</td>\n",
       "      <td>0</td>\n",
       "      <td>3</td>\n",
       "      <td>no</td>\n",
       "    </tr>\n",
       "  </tbody>\n",
       "</table>\n",
       "</div>"
      ],
      "text/plain": [
       "                            User_id State  Tenure  Area_Code     Phone  \\\n",
       "0  cfcd208495d565ef66e7dff9f98764da    KS     128        415  382-4657   \n",
       "1  c4ca4238a0b923820dcc509a6f75849b    OH     107        415  371-7191   \n",
       "2  c81e728d9d4c2f636f067f89cc14862c    NJ     137        415  358-1921   \n",
       "3  eccbc87e4b5ce2fe28308fd9f2a7baf3    OH      84        408  375-9999   \n",
       "4  a87ff679a2f3e71d9181a67b7542122c    OK      75        415  330-6626   \n",
       "\n",
       "  Intl_Plan VMail_Plan  VMail_Message  CustServ_Calls Churn  \n",
       "0        no        yes             25               1    no  \n",
       "1        no        yes             26               1    no  \n",
       "2        no         no              0               0    no  \n",
       "3       yes         no              0               2    no  \n",
       "4       yes         no              0               3    no  "
      ]
     },
     "execution_count": 3,
     "metadata": {},
     "output_type": "execute_result"
    }
   ],
   "source": [
    "subscribers = pd.read_parquet('data/subscribers.gz.parquet', engine='fastparquet')\n",
    "subscribers.head()"
   ]
  },
  {
   "cell_type": "code",
   "execution_count": 4,
   "metadata": {
    "scrolled": true
   },
   "outputs": [
    {
     "data": {
      "text/plain": [
       "no     2850\n",
       "yes     483\n",
       "Name: Churn, dtype: int64"
      ]
     },
     "execution_count": 4,
     "metadata": {},
     "output_type": "execute_result"
    }
   ],
   "source": [
    "# Churn counts\n",
    "subscribers[\"Churn\"].value_counts()"
   ]
  },
  {
   "cell_type": "code",
   "execution_count": 5,
   "metadata": {
    "scrolled": false
   },
   "outputs": [
    {
     "data": {
      "image/png": "[encoded data removed]",
      "text/plain": [
       "<Figure size 864x864 with 1 Axes>"
      ]
     },
     "metadata": {
      "needs_background": "light"
     },
     "output_type": "display_data"
    }
   ],
   "source": [
    "vcount = subscribers[\"State\"].value_counts().reset_index()\n",
    "vcount.columns = [\"State\", \"Total\"]\n",
    "\n",
    "vcount2 = subscribers[\"State\"].loc[subscribers[\"Churn\"] == \"yes\"].value_counts().reset_index()\n",
    "vcount2.columns = [\"State\", \"Left\"]\n",
    "\n",
    "vcount = pd.merge(vcount, vcount2, on=[\"State\"])\n",
    "vcount = vcount.fillna(0)\n",
    "\n",
    "plt.figure(figsize=(12, 12))\n",
    "sns.set_color_codes(\"pastel\")\n",
    "sns.barplot(x=\"Total\", y=\"State\", data=vcount, color=\"b\", label=\"total count\")\n",
    "\n",
    "sns.set_color_codes(\"muted\")\n",
    "sns.barplot(x=\"Left\", y=\"State\", data=vcount, color=\"b\", label=\"churn count\")\n",
    "plt.xlabel(\"\")\n",
    "plt.legend()\n",
    "plt.show()"
   ]
  },
  {
   "cell_type": "code",
   "execution_count": 6,
   "metadata": {},
   "outputs": [
    {
     "data": {
      "text/html": [
       "<div>\n",
       "<style scoped>\n",
       "    .dataframe tbody tr th:only-of-type {\n",
       "        vertical-align: middle;\n",
       "    }\n",
       "\n",
       "    .dataframe tbody tr th {\n",
       "        vertical-align: top;\n",
       "    }\n",
       "\n",
       "    .dataframe thead th {\n",
       "        text-align: right;\n",
       "    }\n",
       "</style>\n",
       "<table border=\"1\" class=\"dataframe\">\n",
       "  <thead>\n",
       "    <tr style=\"text-align: right;\">\n",
       "      <th></th>\n",
       "      <th>User_id</th>\n",
       "      <th>Duration</th>\n",
       "      <th>Call_type</th>\n",
       "    </tr>\n",
       "  </thead>\n",
       "  <tbody>\n",
       "    <tr>\n",
       "      <th>0</th>\n",
       "      <td>6766aa2750c19aad2fa1b32f36ed4aee</td>\n",
       "      <td>1.451465</td>\n",
       "      <td>Day</td>\n",
       "    </tr>\n",
       "    <tr>\n",
       "      <th>1</th>\n",
       "      <td>8fe0093bb30d6f8c31474bd0764e6ac0</td>\n",
       "      <td>0.318914</td>\n",
       "      <td>Eve</td>\n",
       "    </tr>\n",
       "    <tr>\n",
       "      <th>2</th>\n",
       "      <td>0234c510bc6d908b28c70ff313743079</td>\n",
       "      <td>2.111892</td>\n",
       "      <td>Day</td>\n",
       "    </tr>\n",
       "    <tr>\n",
       "      <th>3</th>\n",
       "      <td>dba132f6ab6a3e3d17a8d59e82105f4c</td>\n",
       "      <td>3.305193</td>\n",
       "      <td>Eve</td>\n",
       "    </tr>\n",
       "    <tr>\n",
       "      <th>4</th>\n",
       "      <td>d542599794c1cf067d90638b5d3911f3</td>\n",
       "      <td>1.924791</td>\n",
       "      <td>Night</td>\n",
       "    </tr>\n",
       "  </tbody>\n",
       "</table>\n",
       "</div>"
      ],
      "text/plain": [
       "                            User_id  Duration Call_type\n",
       "0  6766aa2750c19aad2fa1b32f36ed4aee  1.451465       Day\n",
       "1  8fe0093bb30d6f8c31474bd0764e6ac0  0.318914       Eve\n",
       "2  0234c510bc6d908b28c70ff313743079  2.111892       Day\n",
       "3  dba132f6ab6a3e3d17a8d59e82105f4c  3.305193       Eve\n",
       "4  d542599794c1cf067d90638b5d3911f3  1.924791     Night"
      ]
     },
     "execution_count": 6,
     "metadata": {},
     "output_type": "execute_result"
    }
   ],
   "source": [
    "all_calls = pd.read_parquet('data/all_calls.gz.parquet', engine='fastparquet')\n",
    "all_calls.head()"
   ]
  },
  {
   "cell_type": "code",
   "execution_count": 7,
   "metadata": {},
   "outputs": [
    {
     "name": "stderr",
     "output_type": "stream",
     "text": [
      "`distplot` is a deprecated function and will be removed in a future version. Please adapt your code to use either `displot` (a figure-level function with similar flexibility) or `histplot` (an axes-level function for histograms).\n",
      "`distplot` is a deprecated function and will be removed in a future version. Please adapt your code to use either `displot` (a figure-level function with similar flexibility) or `histplot` (an axes-level function for histograms).\n",
      "`distplot` is a deprecated function and will be removed in a future version. Please adapt your code to use either `displot` (a figure-level function with similar flexibility) or `histplot` (an axes-level function for histograms).\n",
      "`distplot` is a deprecated function and will be removed in a future version. Please adapt your code to use either `displot` (a figure-level function with similar flexibility) or `histplot` (an axes-level function for histograms).\n"
     ]
    },
    {
     "data": {
      "image/png": "[encoded data removed]",
      "text/plain": [
       "<Figure size 432x288 with 1 Axes>"
      ]
     },
     "metadata": {
      "needs_background": "light"
     },
     "output_type": "display_data"
    }
   ],
   "source": [
    "plt.figure()\n",
    "sns.distplot(all_calls[\"Duration\"].loc[all_calls[\"Call_type\"] == \"Day\"],\n",
    "             color=\"skyblue\", label=\"Day\")\n",
    "sns.distplot(all_calls[\"Duration\"].loc[all_calls[\"Call_type\"] == \"Eve\"],\n",
    "             color=\"red\", label=\"Eve\")\n",
    "sns.distplot(all_calls[\"Duration\"].loc[all_calls[\"Call_type\"] == \"Intl\"],\n",
    "             color=\"gold\", label=\"Intl\")\n",
    "sns.distplot(all_calls[\"Duration\"].loc[all_calls[\"Call_type\"] == \"Night\"],\n",
    "             color=\"teal\", label=\"Night\")\n",
    "plt.legend()\n",
    "plt.show()"
   ]
  },
  {
   "cell_type": "markdown",
   "metadata": {},
   "source": [
    "## Feature engineering and Preprocessing\n",
    "\n",
    "One can increase the predictive quality of the data using feature engineering.\n",
    "\n",
    "- Feature crosses\n",
    "- Embeddings\n",
    "- PCA\n",
    "- Categorical encoding\n",
    "\n",
    "For example, we shall perform one-hot encoding on `Area_Code` and `State`.\n",
    "\n",
    "```\n",
    "Unique area codes =  [415 408 510]\n",
    "\n",
    "Unique state codes = ['KS' 'OH' 'NJ' 'OK' 'AL' 'MA' 'MO' 'LA' 'WV' 'IN' 'RI' 'IA' 'MT' 'NY'\n",
    " 'ID' 'VT' 'VA' 'TX' 'FL' 'CO' 'AZ' 'SC' 'NE' 'WY' 'HI' 'IL' 'NH' 'GA'\n",
    " 'AK' 'MD' 'AR' 'WI' 'OR' 'MI' 'DE' 'UT' 'CA' 'MN' 'SD' 'NC' 'WA' 'NM'\n",
    " 'NV' 'DC' 'KY' 'ME' 'MS' 'TN' 'PA' 'CT' 'ND']\n",
    "```"
   ]
  },
  {
   "cell_type": "code",
   "execution_count": 8,
   "metadata": {},
   "outputs": [],
   "source": [
    "# Subscribers data\n",
    "subscribers = pd.read_parquet(\"data/subscribers.gz.parquet\", engine=\"fastparquet\")\n",
    "for col in [\"Churn\", \"Intl_Plan\", \"VMail_Plan\"]:\n",
    "    subscribers[col] = (subscribers[col] == \"yes\").astype(int)\n",
    "\n",
    "# Calls data\n",
    "all_calls = pd.read_parquet(\"data/all_calls.gz.parquet\", engine=\"fastparquet\")\n",
    "all_calls = all_calls.groupby([\"Call_type\", \"User_id\"]).agg([\"sum\", \"count\"]).reset_index()\n",
    "all_calls.columns = [\"Call_type\", \"User_id\", \"Mins\", \"Calls\"]\n",
    "all_calls = all_calls.pivot(index=\"User_id\", columns=\"Call_type\", values=[\"Mins\", \"Calls\"]).reset_index()\n",
    "all_calls.columns = [\n",
    "    \"User_id\", \"Day_Mins\", \"Eve_Mins\", \"Intl_Mins\", \"Night_Mins\",\n",
    "    \"Day_Calls\", \"Eve_Calls\", \"Intl_Calls\", \"Night_Calls\"]\n",
    "\n",
    "# Joining\n",
    "model_data = pd.merge(subscribers, all_calls, on=[\"User_id\"], how=\"left\")\n",
    "model_data = model_data.fillna(0)\n",
    "\n",
    "# Categorical encoding\n",
    "model_data = pd.get_dummies(model_data, columns=[\"Area_Code\", \"State\"])"
   ]
  },
  {
   "cell_type": "markdown",
   "metadata": {},
   "source": [
    "## Split train, validation and test data"
   ]
  },
  {
   "cell_type": "code",
   "execution_count": 9,
   "metadata": {},
   "outputs": [],
   "source": [
    "FEATURE_COLS = [\n",
    "    \"Intl_Plan\", \"VMail_Plan\", \"VMail_Message\", \"CustServ_Calls\",\n",
    "    \"Day_Mins\", \"Day_Calls\", \"Eve_Mins\", \"Eve_Calls\", \n",
    "    \"Night_Mins\", \"Night_Calls\", \"Intl_Mins\", \"Intl_Calls\",\n",
    "    \"Area_Code_408\", \"Area_Code_415\", \"Area_Code_510\",\n",
    "    \"State_AK\", \"State_AL\", \"State_AR\", \"State_AZ\", \"State_CA\", \"State_CO\",\n",
    "    \"State_CT\", \"State_DC\", \"State_DE\", \"State_FL\", \"State_GA\", \"State_HI\",\n",
    "    \"State_IA\", \"State_ID\", \"State_IL\", \"State_IN\", \"State_KS\", \"State_KY\",\n",
    "    \"State_LA\", \"State_MA\", \"State_MD\", \"State_ME\", \"State_MI\", \"State_MN\",\n",
    "    \"State_MO\", \"State_MS\", \"State_MT\", \"State_NC\", \"State_ND\", \"State_NE\",\n",
    "    \"State_NH\", \"State_NJ\", \"State_NM\", \"State_NV\", \"State_NY\", \"State_OH\",\n",
    "    \"State_OK\", \"State_OR\", \"State_PA\", \"State_RI\", \"State_SC\", \"State_SD\",\n",
    "    \"State_TN\", \"State_TX\", \"State_UT\", \"State_VA\", \"State_VT\", \"State_WA\",\n",
    "    \"State_WI\", \"State_WV\", \"State_WY\",\n",
    "]\n",
    "\n",
    "TARGET_COL = \"Churn\""
   ]
  },
  {
   "cell_type": "code",
   "execution_count": 10,
   "metadata": {},
   "outputs": [],
   "source": [
    "train_data, eval_data, test_data = np.split(\n",
    "    model_data.sample(frac=1, random_state=1729),\n",
    "    [int(0.7 * len(model_data)), int(0.9 * len(model_data))])\n",
    "\n",
    "X_train = train_data[FEATURE_COLS]\n",
    "y_train = train_data[TARGET_COL]\n",
    "\n",
    "X_val = eval_data[FEATURE_COLS]\n",
    "y_val = eval_data[TARGET_COL]\n",
    "\n",
    "X_test = test_data[FEATURE_COLS]\n",
    "y_test = test_data[TARGET_COL]"
   ]
  },
  {
   "cell_type": "code",
   "execution_count": 11,
   "metadata": {},
   "outputs": [],
   "source": [
    "test_data.to_csv(\"data/test.csv\", index=False)"
   ]
  },
  {
   "cell_type": "markdown",
   "metadata": {},
   "source": [
    "## Train model\n",
    "\n",
    "We use **LightGBM**: a gradient boosting framework that uses tree based learning algorithms."
   ]
  },
  {
   "cell_type": "code",
   "execution_count": 12,
   "metadata": {
    "scrolled": true
   },
   "outputs": [
    {
     "data": {
      "text/plain": [
       "LGBMClassifier(boosting_type='gbdt', class_weight=None, colsample_bytree=1.0,\n",
       "               importance_type='split', learning_rate=0.05, max_depth=-1,\n",
       "               min_child_samples=20, min_child_weight=0.001, min_split_gain=0.0,\n",
       "               n_estimators=100, n_jobs=-1, num_leaves=10, objective=None,\n",
       "               random_state=None, reg_alpha=0.0, reg_lambda=0.0, silent=True,\n",
       "               subsample=1.0, subsample_for_bin=200000, subsample_freq=0)"
      ]
     },
     "execution_count": 12,
     "metadata": {},
     "output_type": "execute_result"
    }
   ],
   "source": [
    "clf = lgb.LGBMClassifier(num_leaves=NUM_LEAVES, learning_rate=LR, n_estimators=N_ESTIMATORS)\n",
    "clf.fit(\n",
    "    X_train,\n",
    "    y_train,\n",
    "    eval_set=[(X_val, y_val)],\n",
    "    eval_metric=lgb_roc_auc_score,\n",
    "    verbose=False,\n",
    ")"
   ]
  },
  {
   "cell_type": "code",
   "execution_count": 13,
   "metadata": {},
   "outputs": [
    {
     "data": {
      "image/png": "[encoded data removed]",
      "text/plain": [
       "<Figure size 864x288 with 2 Axes>"
      ]
     },
     "metadata": {
      "needs_background": "light"
     },
     "output_type": "display_data"
    }
   ],
   "source": [
    "fig, axs = plt.subplots(1, 2, figsize=(12, 4))\n",
    "lgb.plot_metric(clf, \"roc_auc\", ax=axs[0])\n",
    "lgb.plot_metric(clf, \"binary_logloss\", ax=axs[1])\n",
    "plt.show()"
   ]
  },
  {
   "cell_type": "markdown",
   "metadata": {},
   "source": [
    "## Evaluate using test set"
   ]
  },
  {
   "cell_type": "code",
   "execution_count": 14,
   "metadata": {},
   "outputs": [
    {
     "name": "stdout",
     "output_type": "stream",
     "text": [
      "Confusion matrix:\n",
      "[[283   3]\n",
      " [ 11  37]] \n",
      "\n",
      "              precision    recall  f1-score   support\n",
      "\n",
      "           0       0.96      0.99      0.98       286\n",
      "           1       0.93      0.77      0.84        48\n",
      "\n",
      "    accuracy                           0.96       334\n",
      "   macro avg       0.94      0.88      0.91       334\n",
      "weighted avg       0.96      0.96      0.96       334\n",
      "\n"
     ]
    }
   ],
   "source": [
    "y_probs = clf.predict_proba(X_test)[:,1]\n",
    "\n",
    "print_results(y_test, y_probs)"
   ]
  },
  {
   "cell_type": "code",
   "execution_count": 15,
   "metadata": {
    "scrolled": false
   },
   "outputs": [
    {
     "data": {
      "image/png": "[encoded data removed]",
      "text/plain": [
       "<Figure size 864x288 with 2 Axes>"
      ]
     },
     "metadata": {
      "needs_background": "light"
     },
     "output_type": "display_data"
    }
   ],
   "source": [
    "fig, axs = plt.subplots(1, 2, figsize=(12, 4))\n",
    "plot_pr_curve(y_test, y_probs, axs[0])\n",
    "plot_roc_curve(y_test, y_probs, axs[1])\n",
    "plt.show()"
   ]
  },
  {
   "cell_type": "markdown",
   "metadata": {},
   "source": [
    "## Explainability using ModelAnalyzer\n",
    "\n",
    "We shall use `bdrk.model_analyzer.ModelAnalyzer` to generate model explainability analysis locally. You can use it to generate and log them in Bedrock.\n",
    "\n",
    "Refer to [documentation](https://docs.basis-ai.com/guides/explainability-and-fairness) and [API references](https://docs.basis-ai.com/guides/explainability-and-fairness/api-references) for more details."
   ]
  },
  {
   "cell_type": "code",
   "execution_count": 16,
   "metadata": {},
   "outputs": [
    {
     "name": "stderr",
     "output_type": "stream",
     "text": [
      "LightGBM binary classifier with TreeExplainer shap values output has changed to a list of ndarray\n"
     ]
    }
   ],
   "source": [
    "analyzer = ModelAnalyzer(clf, \"churn_prediction\", model_type=ModelTypes.TREE)\n",
    "\n",
    "# To set test data used for calculating explainability\n",
    "analyzer.test_features(X_test)\n",
    "analyzer.stored_sample_limit(sample_limit=None)  # To output all SHAP values for the test data\n",
    "\n",
    "(shap_values, base_values, global_xai_data, fairness_metrics) = analyzer.analyze()"
   ]
  },
  {
   "cell_type": "markdown",
   "metadata": {},
   "source": [
    "## Analyzer outputs\n",
    "\n",
    "### SHAP values\n",
    "Array of SHAP values calculated on provided `test_features`"
   ]
  },
  {
   "cell_type": "code",
   "execution_count": 17,
   "metadata": {},
   "outputs": [
    {
     "data": {
      "text/plain": [
       "[array([[ 0.15419714, -0.04348571, -0.00862618, ...,  0.        ,\n",
       "          0.        ,  0.        ],\n",
       "        [ 0.15260342,  0.16744947,  0.03276369, ...,  0.        ,\n",
       "          0.        ,  0.        ],\n",
       "        [ 0.15149579,  0.14623928,  0.02765375, ...,  0.        ,\n",
       "          0.        ,  0.        ],\n",
       "        ...,\n",
       "        [ 0.14821897, -0.06448763, -0.01022431, ...,  0.        ,\n",
       "          0.        ,  0.        ],\n",
       "        [ 0.13996391,  0.10384648, -0.01747385, ...,  0.        ,\n",
       "          0.        ,  0.        ],\n",
       "        [ 0.15095047, -0.0614824 , -0.00992499, ...,  0.        ,\n",
       "          0.        ,  0.        ]]),\n",
       " array([[-0.15419714,  0.04348571,  0.00862618, ...,  0.        ,\n",
       "          0.        ,  0.        ],\n",
       "        [-0.15260342, -0.16744947, -0.03276369, ...,  0.        ,\n",
       "          0.        ,  0.        ],\n",
       "        [-0.15149579, -0.14623928, -0.02765375, ...,  0.        ,\n",
       "          0.        ,  0.        ],\n",
       "        ...,\n",
       "        [-0.14821897,  0.06448763,  0.01022431, ...,  0.        ,\n",
       "          0.        ,  0.        ],\n",
       "        [-0.13996391, -0.10384648,  0.01747385, ...,  0.        ,\n",
       "          0.        ,  0.        ],\n",
       "        [-0.15095047,  0.0614824 ,  0.00992499, ...,  0.        ,\n",
       "          0.        ,  0.        ]])]"
      ]
     },
     "execution_count": 17,
     "metadata": {},
     "output_type": "execute_result"
    }
   ],
   "source": [
    "shap_values"
   ]
  },
  {
   "cell_type": "markdown",
   "metadata": {},
   "source": [
    "### Base value\n",
    "Base value is the average model output calculated on background data"
   ]
  },
  {
   "cell_type": "code",
   "execution_count": 18,
   "metadata": {},
   "outputs": [
    {
     "data": {
      "text/plain": [
       "array([ 2.77583732, -2.77583732])"
      ]
     },
     "execution_count": 18,
     "metadata": {},
     "output_type": "execute_result"
    }
   ],
   "source": [
    "base_values"
   ]
  },
  {
   "cell_type": "markdown",
   "metadata": {},
   "source": [
    "### Global XAI data\n",
    "Global XAI returns the mean absolute shap values of each feature, together with its correlation with said feature"
   ]
  },
  {
   "cell_type": "code",
   "execution_count": 19,
   "metadata": {},
   "outputs": [
    {
     "data": {
      "text/plain": [
       "dict_keys(['class 0', 'class 1'])"
      ]
     },
     "execution_count": 19,
     "metadata": {},
     "output_type": "execute_result"
    }
   ],
   "source": [
    "global_xai_data.keys()"
   ]
  },
  {
   "cell_type": "code",
   "execution_count": 20,
   "metadata": {},
   "outputs": [
    {
     "data": {
      "text/plain": [
       "{'mean_abs_shap': 0.3416984816536754, 'corrcoeff': 0.8558816398653132}"
      ]
     },
     "execution_count": 20,
     "metadata": {},
     "output_type": "execute_result"
    }
   ],
   "source": [
    "global_xai_data[\"class 1\"][\"Intl_Plan\"]"
   ]
  },
  {
   "cell_type": "markdown",
   "metadata": {},
   "source": [
    "### Fairness metrics\n",
    "\n",
    "Fairness metrics are empty since no fairness config was passed"
   ]
  },
  {
   "cell_type": "code",
   "execution_count": 21,
   "metadata": {},
   "outputs": [],
   "source": [
    "fairness_metrics"
   ]
  },
  {
   "cell_type": "markdown",
   "metadata": {},
   "source": [
    "## Optional: Plotting explainability\n",
    "\n",
    "Using the compute SHAP values and `shap.summary_plot`, we can obtain a preliminary view of the effects of the top features."
   ]
  },
  {
   "cell_type": "code",
   "execution_count": 22,
   "metadata": {
    "scrolled": false
   },
   "outputs": [
    {
     "data": {
      "image/png": "[encoded data removed]",
      "text/plain": [
       "<Figure size 576x396 with 1 Axes>"
      ]
     },
     "metadata": {
      "needs_background": "light"
     },
     "output_type": "display_data"
    },
    {
     "data": {
      "image/png": "[encoded data removed]",
      "text/plain": [
       "<Figure size 576x396 with 2 Axes>"
      ]
     },
     "metadata": {
      "needs_background": "light"
     },
     "output_type": "display_data"
    }
   ],
   "source": [
    "import shap\n",
    "\n",
    "# We use the SHAP values that correspond to `Churn=1`, ie shap_values[1]\n",
    "shap.summary_plot(shap_values[1], X_test, plot_type=\"bar\", max_display=10)\n",
    "shap.summary_plot(shap_values[1], X_test, max_display=10)"
   ]
  },
  {
   "cell_type": "markdown",
   "metadata": {},
   "source": [
    "## Start a training run locally and log related metrics\n",
    "\n",
    "This feature is currently supported in the beta version [bdrk0.7.0b1](https://pypi.org/project/bdrk/0.7.0b1) only.\n",
    "\n",
    "The full documentation can be found [here](https://basisai.github.io)\n"
   ]
  },
  {
   "cell_type": "markdown",
   "metadata": {},
   "source": [
    "### Initialize the setting"
   ]
  },
  {
   "cell_type": "code",
   "execution_count": 23,
   "metadata": {},
   "outputs": [],
   "source": [
    "import os\n",
    "import bdrk\n",
    "import logging\n",
    "import sys\n",
    "import pickle\n",
    "from sklearn import metrics\n",
    "\n",
    "# You can customize the logging logic here\n",
    "_logger = logging.getLogger(bdrk.utils.vars.Constants.MAIN_LOG)\n",
    "_logger.setLevel(logging.INFO)\n",
    "if not _logger.handlers:\n",
    "    _logger.addHandler(logging.StreamHandler(stream=sys.stdout))\n",
    "    \n",
    "# Visit https://bedrock.basis-ai.com/setting/token/ to get the personal access token.\n",
    "os.environ[\"BEDROCK_API_TOKEN\"] = \"\"\n"
   ]
  },
  {
   "cell_type": "markdown",
   "metadata": {},
   "source": [
    "### Start a local run and log"
   ]
  },
  {
   "cell_type": "code",
   "execution_count": 25,
   "metadata": {},
   "outputs": [
    {
     "name": "stdout",
     "output_type": "stream",
     "text": [
      "BedrockClient initialized on project=bdrk-churn-prediction\n",
      "Run started: new-pipeline-run20\n",
      "Params updated: {'LR': '0.05', 'NUM_LEAVES': '10', 'N_ESTIMATORS': '100'}\n",
      "New metrics logged: with x=0, metrics={'Feature Count': 66}\n",
      "New metrics logged: with x=0, metrics={'Training binary_logloss': 0.42411608991485483, 'Training roc_auc': 0.8034581425768477}\n",
      "New metrics logged: with x=1, metrics={'Training binary_logloss': 0.4013472406601789, 'Training roc_auc': 0.8678711576193591}\n",
      "New metrics logged: with x=2, metrics={'Training binary_logloss': 0.3834933178683171, 'Training roc_auc': 0.8681654676258993}\n",
      "New metrics logged: with x=3, metrics={'Training binary_logloss': 0.3687551865710307, 'Training roc_auc': 0.8684025506867233}\n",
      "New metrics logged: with x=4, metrics={'Training binary_logloss': 0.3565575099763759, 'Training roc_auc': 0.8681736429038588}\n",
      "New metrics logged: with x=5, metrics={'Training binary_logloss': 0.3452089443095776, 'Training roc_auc': 0.8692282537606278}\n",
      "New metrics logged: with x=6, metrics={'Training binary_logloss': 0.3359103723120983, 'Training roc_auc': 0.8691628515369523}\n",
      "New metrics logged: with x=7, metrics={'Training binary_logloss': 0.32652462024042483, 'Training roc_auc': 0.8713783518639634}\n",
      "New metrics logged: with x=8, metrics={'Training binary_logloss': 0.319252620522134, 'Training roc_auc': 0.8717380640941792}\n",
      "New metrics logged: with x=9, metrics={'Training binary_logloss': 0.3114289885785848, 'Training roc_auc': 0.8714110529758012}\n",
      "New metrics logged: with x=10, metrics={'Training binary_logloss': 0.304618549890445, 'Training roc_auc': 0.8728253760627862}\n",
      "New metrics logged: with x=11, metrics={'Training binary_logloss': 0.29826152980747456, 'Training roc_auc': 0.872187704381949}\n",
      "New metrics logged: with x=12, metrics={'Training binary_logloss': 0.2928082399986831, 'Training roc_auc': 0.8725801177240027}\n",
      "New metrics logged: with x=13, metrics={'Training binary_logloss': 0.28778991788074326, 'Training roc_auc': 0.8724411379986919}\n",
      "New metrics logged: with x=14, metrics={'Training binary_logloss': 0.2836631548487806, 'Training roc_auc': 0.8727599738391105}\n",
      "New metrics logged: with x=15, metrics={'Training binary_logloss': 0.2794506533923264, 'Training roc_auc': 0.8730706344015697}\n",
      "New metrics logged: with x=16, metrics={'Training binary_logloss': 0.2759387126174603, 'Training roc_auc': 0.8726455199476782}\n",
      "New metrics logged: with x=17, metrics={'Training binary_logloss': 0.2724997528320384, 'Training roc_auc': 0.8728335513407456}\n",
      "New metrics logged: with x=18, metrics={'Training binary_logloss': 0.2694234055990777, 'Training roc_auc': 0.8732014388489209}\n",
      "New metrics logged: with x=19, metrics={'Training binary_logloss': 0.26568349380136136, 'Training roc_auc': 0.8723021582733812}\n",
      "New metrics logged: with x=20, metrics={'Training binary_logloss': 0.26269985036608307, 'Training roc_auc': 0.8722531066056246}\n",
      "New metrics logged: with x=21, metrics={'Training binary_logloss': 0.25947152251701866, 'Training roc_auc': 0.8712066710268149}\n",
      "New metrics logged: with x=22, metrics={'Training binary_logloss': 0.25744227577084927, 'Training roc_auc': 0.8713374754741661}\n",
      "New metrics logged: with x=23, metrics={'Training binary_logloss': 0.2553149445199884, 'Training roc_auc': 0.8709450621321125}\n",
      "New metrics logged: with x=24, metrics={'Training binary_logloss': 0.25272357032936416, 'Training roc_auc': 0.8758829300196207}\n",
      "New metrics logged: with x=25, metrics={'Training binary_logloss': 0.25039601916909066, 'Training roc_auc': 0.8759973839110529}\n",
      "New metrics logged: with x=26, metrics={'Training binary_logloss': 0.24814582495441603, 'Training roc_auc': 0.87648790058862}\n",
      "New metrics logged: with x=27, metrics={'Training binary_logloss': 0.24644243567423588, 'Training roc_auc': 0.8765941792020928}\n",
      "New metrics logged: with x=28, metrics={'Training binary_logloss': 0.24484255719149484, 'Training roc_auc': 0.8733485938521909}\n",
      "New metrics logged: with x=29, metrics={'Training binary_logloss': 0.24311177203899098, 'Training roc_auc': 0.8734793982995421}\n",
      "New metrics logged: with x=30, metrics={'Training binary_logloss': 0.24103671019510087, 'Training roc_auc': 0.8738227599738391}\n",
      "New metrics logged: with x=31, metrics={'Training binary_logloss': 0.2395652962827944, 'Training roc_auc': 0.8739372138652713}\n",
      "New metrics logged: with x=32, metrics={'Training binary_logloss': 0.23803775273179972, 'Training roc_auc': 0.8781883584041856}\n",
      "New metrics logged: with x=33, metrics={'Training binary_logloss': 0.23698252549853333, 'Training roc_auc': 0.8779267495094832}\n",
      "New metrics logged: with x=34, metrics={'Training binary_logloss': 0.2356559290574582, 'Training roc_auc': 0.878646173969915}\n",
      "New metrics logged: with x=35, metrics={'Training binary_logloss': 0.23457877461967563, 'Training roc_auc': 0.8772563767168085}\n",
      "New metrics logged: with x=36, metrics={'Training binary_logloss': 0.23331942156959498, 'Training roc_auc': 0.8772400261608895}\n",
      "New metrics logged: with x=37, metrics={'Training binary_logloss': 0.23242375687226427, 'Training roc_auc': 0.8772727272727273}\n",
      "New metrics logged: with x=38, metrics={'Training binary_logloss': 0.23116620864456802, 'Training roc_auc': 0.8775425114453892}\n",
      "New metrics logged: with x=39, metrics={'Training binary_logloss': 0.22981811404556637, 'Training roc_auc': 0.8778041203400916}\n",
      "New metrics logged: with x=40, metrics={'Training binary_logloss': 0.22907628974024372, 'Training roc_auc': 0.8779512753433617}\n",
      "New metrics logged: with x=41, metrics={'Training binary_logloss': 0.22858284520786443, 'Training roc_auc': 0.8798642903858732}\n",
      "New metrics logged: with x=42, metrics={'Training binary_logloss': 0.22800552823947895, 'Training roc_auc': 0.8763816219751471}\n",
      "New metrics logged: with x=43, metrics={'Training binary_logloss': 0.22673613249073588, 'Training roc_auc': 0.8768394375408765}\n",
      "New metrics logged: with x=44, metrics={'Training binary_logloss': 0.2261087750380495, 'Training roc_auc': 0.877321778940484}\n",
      "New metrics logged: with x=45, metrics={'Training binary_logloss': 0.22554742261057556, 'Training roc_auc': 0.8771255722694572}\n",
      "New metrics logged: with x=46, metrics={'Training binary_logloss': 0.2254104611941522, 'Training roc_auc': 0.8745585349901897}\n",
      "New metrics logged: with x=47, metrics={'Training binary_logloss': 0.22454377237595544, 'Training roc_auc': 0.8751553302812296}\n",
      "New metrics logged: with x=48, metrics={'Training binary_logloss': 0.22346226942557587, 'Training roc_auc': 0.8754496402877698}\n",
      "New metrics logged: with x=49, metrics={'Training binary_logloss': 0.22288252413946605, 'Training roc_auc': 0.8753842380640943}\n",
      "New metrics logged: with x=50, metrics={'Training binary_logloss': 0.22214709059796492, 'Training roc_auc': 0.8761527141922826}\n",
      "New metrics logged: with x=51, metrics={'Training binary_logloss': 0.22162816569189756, 'Training roc_auc': 0.8761200130804447}\n",
      "New metrics logged: with x=52, metrics={'Training binary_logloss': 0.22118032492137715, 'Training roc_auc': 0.8762998691955527}\n",
      "New metrics logged: with x=53, metrics={'Training binary_logloss': 0.22091012905348664, 'Training roc_auc': 0.8750654022236757}\n",
      "New metrics logged: with x=54, metrics={'Training binary_logloss': 0.2202937844608988, 'Training roc_auc': 0.8732504905166776}\n",
      "New metrics logged: with x=55, metrics={'Training binary_logloss': 0.21933170618968525, 'Training roc_auc': 0.8743132766514061}\n",
      "New metrics logged: with x=56, metrics={'Training binary_logloss': 0.2189598573347815, 'Training roc_auc': 0.8744440810987573}\n",
      "New metrics logged: with x=57, metrics={'Training binary_logloss': 0.2187131546799932, 'Training roc_auc': 0.8756540222367559}\n",
      "New metrics logged: with x=58, metrics={'Training binary_logloss': 0.21795292213566683, 'Training roc_auc': 0.8779758011772401}\n",
      "New metrics logged: with x=59, metrics={'Training binary_logloss': 0.21758386295434262, 'Training roc_auc': 0.8777959450621321}\n",
      "New metrics logged: with x=60, metrics={'Training binary_logloss': 0.2170204933924887, 'Training roc_auc': 0.8781883584041857}\n",
      "New metrics logged: with x=61, metrics={'Training binary_logloss': 0.21640630801209942, 'Training roc_auc': 0.877738718116416}\n",
      "New metrics logged: with x=62, metrics={'Training binary_logloss': 0.2157047033107191, 'Training roc_auc': 0.8781720078482669}\n"
     ]
    },
    {
     "name": "stdout",
     "output_type": "stream",
     "text": [
      "New metrics logged: with x=63, metrics={'Training binary_logloss': 0.21551580234283862, 'Training roc_auc': 0.8793001962066709}\n",
      "New metrics logged: with x=64, metrics={'Training binary_logloss': 0.21509245613416295, 'Training roc_auc': 0.8781229561805101}\n",
      "New metrics logged: with x=65, metrics={'Training binary_logloss': 0.21486513213695418, 'Training roc_auc': 0.8781474820143885}\n",
      "New metrics logged: with x=66, metrics={'Training binary_logloss': 0.21484289854255034, 'Training roc_auc': 0.8787688031393067}\n",
      "New metrics logged: with x=67, metrics={'Training binary_logloss': 0.21450631549507154, 'Training roc_auc': 0.8782782864617397}\n",
      "New metrics logged: with x=68, metrics={'Training binary_logloss': 0.2144594316506241, 'Training roc_auc': 0.8768721386527142}\n",
      "New metrics logged: with x=69, metrics={'Training binary_logloss': 0.2145601438170196, 'Training roc_auc': 0.8766432308698496}\n",
      "New metrics logged: with x=70, metrics={'Training binary_logloss': 0.21449990662498142, 'Training roc_auc': 0.8785562459123609}\n",
      "New metrics logged: with x=71, metrics={'Training binary_logloss': 0.2139287622578262, 'Training roc_auc': 0.8796353826030086}\n",
      "New metrics logged: with x=72, metrics={'Training binary_logloss': 0.21408448926525875, 'Training roc_auc': 0.8797988881621975}\n",
      "New metrics logged: with x=73, metrics={'Training binary_logloss': 0.21373085022677, 'Training roc_auc': 0.880044146500981}\n",
      "New metrics logged: with x=74, metrics={'Training binary_logloss': 0.21397489462368527, 'Training roc_auc': 0.879136690647482}\n",
      "New metrics logged: with x=75, metrics={'Training binary_logloss': 0.21395744218122195, 'Training roc_auc': 0.8788750817527795}\n",
      "New metrics logged: with x=76, metrics={'Training binary_logloss': 0.21392655771555522, 'Training roc_auc': 0.878302812295618}\n",
      "New metrics logged: with x=77, metrics={'Training binary_logloss': 0.21352102548138824, 'Training roc_auc': 0.878776978417266}\n",
      "New metrics logged: with x=78, metrics={'Training binary_logloss': 0.21346568519164752, 'Training roc_auc': 0.8788096795291039}\n",
      "New metrics logged: with x=79, metrics={'Training binary_logloss': 0.21321036747675606, 'Training roc_auc': 0.8788914323086985}\n",
      "New metrics logged: with x=80, metrics={'Training binary_logloss': 0.2133509250483362, 'Training roc_auc': 0.8784254414650098}\n",
      "New metrics logged: with x=81, metrics={'Training binary_logloss': 0.21325572736771756, 'Training roc_auc': 0.8788178548070635}\n",
      "New metrics logged: with x=82, metrics={'Training binary_logloss': 0.21360199803738758, 'Training roc_auc': 0.8789813603662524}\n",
      "New metrics logged: with x=83, metrics={'Training binary_logloss': 0.21338519486159171, 'Training roc_auc': 0.8792756703727929}\n",
      "New metrics logged: with x=84, metrics={'Training binary_logloss': 0.2134929036905095, 'Training roc_auc': 0.8784663178548071}\n",
      "New metrics logged: with x=85, metrics={'Training binary_logloss': 0.21289454935734356, 'Training roc_auc': 0.8801667756703728}\n",
      "New metrics logged: with x=86, metrics={'Training binary_logloss': 0.21252688469128156, 'Training roc_auc': 0.8817282537606278}\n",
      "New metrics logged: with x=87, metrics={'Training binary_logloss': 0.21259891850236662, 'Training roc_auc': 0.8819326357096142}\n",
      "New metrics logged: with x=88, metrics={'Training binary_logloss': 0.2124644512855649, 'Training roc_auc': 0.8825703073904513}\n",
      "New metrics logged: with x=89, metrics={'Training binary_logloss': 0.21251563953879515, 'Training roc_auc': 0.8821124918247221}\n",
      "New metrics logged: with x=90, metrics={'Training binary_logloss': 0.2122719469010887, 'Training roc_auc': 0.8820062132112492}\n",
      "New metrics logged: with x=91, metrics={'Training binary_logloss': 0.21206344306401687, 'Training roc_auc': 0.8828237410071942}\n",
      "New metrics logged: with x=92, metrics={'Training binary_logloss': 0.21248978720127498, 'Training roc_auc': 0.8826030085022891}\n",
      "New metrics logged: with x=93, metrics={'Training binary_logloss': 0.2120669623895337, 'Training roc_auc': 0.8831262262916939}\n",
      "New metrics logged: with x=94, metrics={'Training binary_logloss': 0.21238103745192516, 'Training roc_auc': 0.8817527795945063}\n",
      "New metrics logged: with x=95, metrics={'Training binary_logloss': 0.21269752715925191, 'Training roc_auc': 0.8808207979071289}\n",
      "New metrics logged: with x=96, metrics={'Training binary_logloss': 0.2130252031139842, 'Training roc_auc': 0.8801831262262916}\n",
      "New metrics logged: with x=97, metrics={'Training binary_logloss': 0.21311341010267804, 'Training roc_auc': 0.8800032701111838}\n",
      "New metrics logged: with x=98, metrics={'Training binary_logloss': 0.21315013373711802, 'Training roc_auc': 0.880461085676913}\n",
      "New metrics logged: with x=99, metrics={'Training binary_logloss': 0.21298602366293956, 'Training roc_auc': 0.8802321778940484}\n",
      "New metrics logged: with x=0, metrics={'Accuracy': 0.9580838323353293, 'Precision': 0.925, 'Recall': 0.7708333333333334, 'F1 score': 0.840909090909091, 'Roc auc': 0.8801719114219115, 'Avg precision': 0.7459549650698604}\n",
      "Confusion matrix logged\n",
      "Model logged: data/lgb_model.pkl\n",
      "Model version created: new-pipeline-v4\n",
      "Run Succeeded: new-pipeline-run20\n",
      "Run exitted\n"
     ]
    }
   ],
   "source": [
    "# Initialize the project\n",
    "bdrk.init(project_id=\"bdrk-churn-prediction\")\n",
    "\n",
    "with bdrk.start_run(pipeline_id=\"new-pipeline\", environment_id=\"playground-production\"):\n",
    "    # Log related parameters\n",
    "    bdrk.log_params({\"LR\": LR, \"NUM_LEAVES\": NUM_LEAVES, \"N_ESTIMATORS\": N_ESTIMATORS})\n",
    "    \n",
    "    # Log a single metric\n",
    "    bdrk.log_metric(key=\"Feature Count\", value=len(FEATURE_COLS))\n",
    "    \n",
    "    # Log metrics for each training step\n",
    "    evals = clf.evals_result_[\"valid_0\"]\n",
    "    for iteration in range(N_ESTIMATORS):\n",
    "        bdrk.log_metrics(metrics={\n",
    "            \"Training binary_logloss\": evals[\"binary_logloss\"][iteration],\n",
    "            \"Training roc_auc\": evals[\"roc_auc\"][iteration]\n",
    "        }, x=iteration)\n",
    "        \n",
    "    \n",
    "    # Log final metrics in batch\n",
    "    y_pred = (y_probs > 0.5).astype(int)\n",
    "    bdrk.log_metrics(metrics={\n",
    "        \"Accuracy\": metrics.accuracy_score(y_test, y_pred),\n",
    "        \"Precision\": metrics.precision_score(y_test, y_pred),\n",
    "        \"Recall\": metrics.recall_score(y_test, y_pred),\n",
    "        \"F1 score\": metrics.f1_score(y_test, y_pred),\n",
    "        \"Roc auc\": metrics.roc_auc_score(y_test, y_pred),\n",
    "        \"Avg precision\": metrics.average_precision_score(y_test, y_pred),\n",
    "    })\n",
    "    \n",
    "    # Log the binary classifier from the predicted data\n",
    "    bdrk.log_binary_classifier_metrics(actual=y_test, probability=y_probs)\n",
    "\n",
    "    # Saving and log the model\n",
    "    with open(OUTPUT_MODEL, \"wb\") as model_file:\n",
    "        pickle.dump(clf, model_file)\n",
    "    bdrk.log_model(OUTPUT_MODEL)\n"
   ]
  },
  {
   "cell_type": "code",
   "execution_count": null,
   "metadata": {},
   "outputs": [],
   "source": []
  }
 ],
 "metadata": {
  "kernelspec": {
   "display_name": "Python 3",
   "language": "python",
   "name": "python3"
  },
  "language_info": {
   "codemirror_mode": {
    "name": "ipython",
    "version": 3
   },
   "file_extension": ".py",
   "mimetype": "text/x-python",
   "name": "python",
   "nbconvert_exporter": "python",
   "pygments_lexer": "ipython3",
   "version": "3.7.3"
  }
 },
 "nbformat": 4,
 "nbformat_minor": 2
}
