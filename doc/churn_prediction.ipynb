{
 "cells": [
  {
   "cell_type": "markdown",
   "metadata": {},
   "source": [
    "# Customer Churn Prediction"
   ]
  },
  {
   "cell_type": "code",
   "execution_count": 1,
   "metadata": {},
   "outputs": [],
   "source": [
    "import numpy as np\n",
    "import pandas as pd\n",
    "import lightgbm as lgb\n",
    "import shap\n",
    "import seaborn as sns\n",
    "import matplotlib.pyplot as plt\n",
    "\n",
    "from bedrock_client.bedrock.analyzer.model_analyzer import ModelAnalyzer\n",
    "from bedrock_client.bedrock.analyzer import ModelTypes\n",
    "\n",
    "from utils import lgb_roc_auc_score, print_results, plot_pr_curve, plot_roc_curve\n",
    "\n",
    "sns.set()\n",
    "%matplotlib inline\n",
    "%load_ext autoreload\n",
    "%autoreload 2"
   ]
  },
  {
   "cell_type": "markdown",
   "metadata": {},
   "source": [
    "## EDA - data deepdive\n",
    "\n",
    "The first task in any data science or ML project is to understand and clean the data.\n",
    "\n",
    "- Understand the data types for each feature\n",
    "- Look for anomalies and missing values\n",
    "- Understand the distributions for each feature"
   ]
  },
  {
   "cell_type": "code",
   "execution_count": 2,
   "metadata": {
    "scrolled": true
   },
   "outputs": [
    {
     "data": {
      "text/html": [
       "<div>\n",
       "<style scoped>\n",
       "    .dataframe tbody tr th:only-of-type {\n",
       "        vertical-align: middle;\n",
       "    }\n",
       "\n",
       "    .dataframe tbody tr th {\n",
       "        vertical-align: top;\n",
       "    }\n",
       "\n",
       "    .dataframe thead th {\n",
       "        text-align: right;\n",
       "    }\n",
       "</style>\n",
       "<table border=\"1\" class=\"dataframe\">\n",
       "  <thead>\n",
       "    <tr style=\"text-align: right;\">\n",
       "      <th></th>\n",
       "      <th>User_id</th>\n",
       "      <th>State</th>\n",
       "      <th>Tenure</th>\n",
       "      <th>Area_Code</th>\n",
       "      <th>Phone</th>\n",
       "      <th>Intl_Plan</th>\n",
       "      <th>VMail_Plan</th>\n",
       "      <th>VMail_Message</th>\n",
       "      <th>CustServ_Calls</th>\n",
       "      <th>Churn</th>\n",
       "    </tr>\n",
       "  </thead>\n",
       "  <tbody>\n",
       "    <tr>\n",
       "      <th>0</th>\n",
       "      <td>cfcd208495d565ef66e7dff9f98764da</td>\n",
       "      <td>KS</td>\n",
       "      <td>128</td>\n",
       "      <td>415</td>\n",
       "      <td>382-4657</td>\n",
       "      <td>no</td>\n",
       "      <td>yes</td>\n",
       "      <td>25</td>\n",
       "      <td>1</td>\n",
       "      <td>no</td>\n",
       "    </tr>\n",
       "    <tr>\n",
       "      <th>1</th>\n",
       "      <td>c4ca4238a0b923820dcc509a6f75849b</td>\n",
       "      <td>OH</td>\n",
       "      <td>107</td>\n",
       "      <td>415</td>\n",
       "      <td>371-7191</td>\n",
       "      <td>no</td>\n",
       "      <td>yes</td>\n",
       "      <td>26</td>\n",
       "      <td>1</td>\n",
       "      <td>no</td>\n",
       "    </tr>\n",
       "    <tr>\n",
       "      <th>2</th>\n",
       "      <td>c81e728d9d4c2f636f067f89cc14862c</td>\n",
       "      <td>NJ</td>\n",
       "      <td>137</td>\n",
       "      <td>415</td>\n",
       "      <td>358-1921</td>\n",
       "      <td>no</td>\n",
       "      <td>no</td>\n",
       "      <td>0</td>\n",
       "      <td>0</td>\n",
       "      <td>no</td>\n",
       "    </tr>\n",
       "    <tr>\n",
       "      <th>3</th>\n",
       "      <td>eccbc87e4b5ce2fe28308fd9f2a7baf3</td>\n",
       "      <td>OH</td>\n",
       "      <td>84</td>\n",
       "      <td>408</td>\n",
       "      <td>375-9999</td>\n",
       "      <td>yes</td>\n",
       "      <td>no</td>\n",
       "      <td>0</td>\n",
       "      <td>2</td>\n",
       "      <td>no</td>\n",
       "    </tr>\n",
       "    <tr>\n",
       "      <th>4</th>\n",
       "      <td>a87ff679a2f3e71d9181a67b7542122c</td>\n",
       "      <td>OK</td>\n",
       "      <td>75</td>\n",
       "      <td>415</td>\n",
       "      <td>330-6626</td>\n",
       "      <td>yes</td>\n",
       "      <td>no</td>\n",
       "      <td>0</td>\n",
       "      <td>3</td>\n",
       "      <td>no</td>\n",
       "    </tr>\n",
       "  </tbody>\n",
       "</table>\n",
       "</div>"
      ],
      "text/plain": [
       "                            User_id State  Tenure  Area_Code     Phone  \\\n",
       "0  cfcd208495d565ef66e7dff9f98764da    KS     128        415  382-4657   \n",
       "1  c4ca4238a0b923820dcc509a6f75849b    OH     107        415  371-7191   \n",
       "2  c81e728d9d4c2f636f067f89cc14862c    NJ     137        415  358-1921   \n",
       "3  eccbc87e4b5ce2fe28308fd9f2a7baf3    OH      84        408  375-9999   \n",
       "4  a87ff679a2f3e71d9181a67b7542122c    OK      75        415  330-6626   \n",
       "\n",
       "  Intl_Plan VMail_Plan  VMail_Message  CustServ_Calls Churn  \n",
       "0        no        yes             25               1    no  \n",
       "1        no        yes             26               1    no  \n",
       "2        no         no              0               0    no  \n",
       "3       yes         no              0               2    no  \n",
       "4       yes         no              0               3    no  "
      ]
     },
     "execution_count": 2,
     "metadata": {},
     "output_type": "execute_result"
    }
   ],
   "source": [
    "subscribers = pd.read_parquet('data/subscribers.gz.parquet', engine='fastparquet')\n",
    "subscribers.head()"
   ]
  },
  {
   "cell_type": "code",
   "execution_count": 3,
   "metadata": {
    "scrolled": true
   },
   "outputs": [
    {
     "data": {
      "text/plain": [
       "no     2850\n",
       "yes     483\n",
       "Name: Churn, dtype: int64"
      ]
     },
     "execution_count": 3,
     "metadata": {},
     "output_type": "execute_result"
    }
   ],
   "source": [
    "# Churn counts\n",
    "subscribers[\"Churn\"].value_counts()"
   ]
  },
  {
   "cell_type": "code",
   "execution_count": 4,
   "metadata": {
    "scrolled": false
   },
   "outputs": [
    {
     "data": {
      "image/png": "[encoded data removed]",
      "text/plain": [
       "<Figure size 864x864 with 1 Axes>"
      ]
     },
     "metadata": {
      "needs_background": "light"
     },
     "output_type": "display_data"
    }
   ],
   "source": [
    "vcount = subscribers[\"State\"].value_counts().reset_index()\n",
    "vcount.columns = [\"State\", \"Total\"]\n",
    "\n",
    "vcount2 = subscribers[\"State\"].loc[subscribers[\"Churn\"] == \"yes\"].value_counts().reset_index()\n",
    "vcount2.columns = [\"State\", \"Left\"]\n",
    "\n",
    "vcount = pd.merge(vcount, vcount2, on=[\"State\"])\n",
    "vcount = vcount.fillna(0)\n",
    "\n",
    "plt.figure(figsize=(12, 12))\n",
    "sns.set_color_codes(\"pastel\")\n",
    "sns.barplot(x=\"Total\", y=\"State\", data=vcount, color=\"b\", label=\"total count\")\n",
    "\n",
    "sns.set_color_codes(\"muted\")\n",
    "sns.barplot(x=\"Left\", y=\"State\", data=vcount, color=\"b\", label=\"churn count\")\n",
    "plt.xlabel(\"\")\n",
    "plt.legend()\n",
    "plt.show()"
   ]
  },
  {
   "cell_type": "code",
   "execution_count": 5,
   "metadata": {},
   "outputs": [
    {
     "data": {
      "text/html": [
       "<div>\n",
       "<style scoped>\n",
       "    .dataframe tbody tr th:only-of-type {\n",
       "        vertical-align: middle;\n",
       "    }\n",
       "\n",
       "    .dataframe tbody tr th {\n",
       "        vertical-align: top;\n",
       "    }\n",
       "\n",
       "    .dataframe thead th {\n",
       "        text-align: right;\n",
       "    }\n",
       "</style>\n",
       "<table border=\"1\" class=\"dataframe\">\n",
       "  <thead>\n",
       "    <tr style=\"text-align: right;\">\n",
       "      <th></th>\n",
       "      <th>User_id</th>\n",
       "      <th>Duration</th>\n",
       "      <th>Call_type</th>\n",
       "    </tr>\n",
       "  </thead>\n",
       "  <tbody>\n",
       "    <tr>\n",
       "      <th>0</th>\n",
       "      <td>6766aa2750c19aad2fa1b32f36ed4aee</td>\n",
       "      <td>1.451465</td>\n",
       "      <td>Day</td>\n",
       "    </tr>\n",
       "    <tr>\n",
       "      <th>1</th>\n",
       "      <td>8fe0093bb30d6f8c31474bd0764e6ac0</td>\n",
       "      <td>0.318914</td>\n",
       "      <td>Eve</td>\n",
       "    </tr>\n",
       "    <tr>\n",
       "      <th>2</th>\n",
       "      <td>0234c510bc6d908b28c70ff313743079</td>\n",
       "      <td>2.111892</td>\n",
       "      <td>Day</td>\n",
       "    </tr>\n",
       "    <tr>\n",
       "      <th>3</th>\n",
       "      <td>dba132f6ab6a3e3d17a8d59e82105f4c</td>\n",
       "      <td>3.305193</td>\n",
       "      <td>Eve</td>\n",
       "    </tr>\n",
       "    <tr>\n",
       "      <th>4</th>\n",
       "      <td>d542599794c1cf067d90638b5d3911f3</td>\n",
       "      <td>1.924791</td>\n",
       "      <td>Night</td>\n",
       "    </tr>\n",
       "  </tbody>\n",
       "</table>\n",
       "</div>"
      ],
      "text/plain": [
       "                            User_id  Duration Call_type\n",
       "0  6766aa2750c19aad2fa1b32f36ed4aee  1.451465       Day\n",
       "1  8fe0093bb30d6f8c31474bd0764e6ac0  0.318914       Eve\n",
       "2  0234c510bc6d908b28c70ff313743079  2.111892       Day\n",
       "3  dba132f6ab6a3e3d17a8d59e82105f4c  3.305193       Eve\n",
       "4  d542599794c1cf067d90638b5d3911f3  1.924791     Night"
      ]
     },
     "execution_count": 5,
     "metadata": {},
     "output_type": "execute_result"
    }
   ],
   "source": [
    "all_calls = pd.read_parquet('data/all_calls.gz.parquet', engine='fastparquet')\n",
    "all_calls.head()"
   ]
  },
  {
   "cell_type": "code",
   "execution_count": 6,
   "metadata": {},
   "outputs": [
    {
     "data": {
      "image/png": "[encoded data removed]",
      "text/plain": [
       "<Figure size 432x288 with 1 Axes>"
      ]
     },
     "metadata": {
      "needs_background": "light"
     },
     "output_type": "display_data"
    }
   ],
   "source": [
    "plt.figure()\n",
    "sns.distplot(all_calls[\"Duration\"].loc[all_calls[\"Call_type\"] == \"Day\"],\n",
    "             color=\"skyblue\", label=\"Day\")\n",
    "sns.distplot(all_calls[\"Duration\"].loc[all_calls[\"Call_type\"] == \"Eve\"],\n",
    "             color=\"red\", label=\"Eve\")\n",
    "sns.distplot(all_calls[\"Duration\"].loc[all_calls[\"Call_type\"] == \"Intl\"],\n",
    "             color=\"gold\", label=\"Intl\")\n",
    "sns.distplot(all_calls[\"Duration\"].loc[all_calls[\"Call_type\"] == \"Night\"],\n",
    "             color=\"teal\", label=\"Night\")\n",
    "plt.legend()\n",
    "plt.show()"
   ]
  },
  {
   "cell_type": "markdown",
   "metadata": {},
   "source": [
    "## Feature engineering and Preprocessing\n",
    "\n",
    "One can increase the predictive quality of the data using feature engineering.\n",
    "\n",
    "- Feature crosses\n",
    "- Embeddings\n",
    "- PCA\n",
    "- Categorical encoding\n",
    "\n",
    "For example, we shall perform one-hot encoding on `Area_Code` and `State`.\n",
    "\n",
    "```\n",
    "Unique area codes =  [415 408 510]\n",
    "\n",
    "Unique state codes = ['KS' 'OH' 'NJ' 'OK' 'AL' 'MA' 'MO' 'LA' 'WV' 'IN' 'RI' 'IA' 'MT' 'NY'\n",
    " 'ID' 'VT' 'VA' 'TX' 'FL' 'CO' 'AZ' 'SC' 'NE' 'WY' 'HI' 'IL' 'NH' 'GA'\n",
    " 'AK' 'MD' 'AR' 'WI' 'OR' 'MI' 'DE' 'UT' 'CA' 'MN' 'SD' 'NC' 'WA' 'NM'\n",
    " 'NV' 'DC' 'KY' 'ME' 'MS' 'TN' 'PA' 'CT' 'ND']\n",
    "```"
   ]
  },
  {
   "cell_type": "code",
   "execution_count": 7,
   "metadata": {},
   "outputs": [],
   "source": [
    "# Subscribers data\n",
    "subscribers = pd.read_parquet(\"data/subscribers.gz.parquet\", engine=\"fastparquet\")\n",
    "for col in [\"Churn\", \"Intl_Plan\", \"VMail_Plan\"]:\n",
    "    subscribers[col] = (subscribers[col] == \"yes\").astype(int)\n",
    "\n",
    "# Calls data\n",
    "all_calls = pd.read_parquet(\"data/all_calls.gz.parquet\", engine=\"fastparquet\")\n",
    "all_calls = all_calls.groupby([\"Call_type\", \"User_id\"]).agg([\"sum\", \"count\"]).reset_index()\n",
    "all_calls.columns = [\"Call_type\", \"User_id\", \"Mins\", \"Calls\"]\n",
    "all_calls = all_calls.pivot(index=\"User_id\", columns=\"Call_type\", values=[\"Mins\", \"Calls\"]).reset_index()\n",
    "all_calls.columns = [\n",
    "    \"User_id\", \"Day_Mins\", \"Eve_Mins\", \"Intl_Mins\", \"Night_Mins\",\n",
    "    \"Day_Calls\", \"Eve_Calls\", \"Intl_Calls\", \"Night_Calls\"]\n",
    "\n",
    "# Joining\n",
    "model_data = pd.merge(subscribers, all_calls, on=[\"User_id\"], how=\"left\")\n",
    "model_data = model_data.fillna(0)\n",
    "\n",
    "# Categorical encoding\n",
    "model_data = pd.get_dummies(model_data, columns=[\"Area_Code\", \"State\"])"
   ]
  },
  {
   "cell_type": "markdown",
   "metadata": {},
   "source": [
    "## Split train, validation and test data"
   ]
  },
  {
   "cell_type": "code",
   "execution_count": 8,
   "metadata": {},
   "outputs": [],
   "source": [
    "FEATURE_COLS = [\n",
    "    \"Intl_Plan\", \"VMail_Plan\", \"VMail_Message\", \"CustServ_Calls\",\n",
    "    \"Day_Mins\", \"Day_Calls\", \"Eve_Mins\", \"Eve_Calls\", \n",
    "    \"Night_Mins\", \"Night_Calls\", \"Intl_Mins\", \"Intl_Calls\",\n",
    "    \"Area_Code_408\", \"Area_Code_415\", \"Area_Code_510\",\n",
    "    \"State_AK\", \"State_AL\", \"State_AR\", \"State_AZ\", \"State_CA\", \"State_CO\",\n",
    "    \"State_CT\", \"State_DC\", \"State_DE\", \"State_FL\", \"State_GA\", \"State_HI\",\n",
    "    \"State_IA\", \"State_ID\", \"State_IL\", \"State_IN\", \"State_KS\", \"State_KY\",\n",
    "    \"State_LA\", \"State_MA\", \"State_MD\", \"State_ME\", \"State_MI\", \"State_MN\",\n",
    "    \"State_MO\", \"State_MS\", \"State_MT\", \"State_NC\", \"State_ND\", \"State_NE\",\n",
    "    \"State_NH\", \"State_NJ\", \"State_NM\", \"State_NV\", \"State_NY\", \"State_OH\",\n",
    "    \"State_OK\", \"State_OR\", \"State_PA\", \"State_RI\", \"State_SC\", \"State_SD\",\n",
    "    \"State_TN\", \"State_TX\", \"State_UT\", \"State_VA\", \"State_VT\", \"State_WA\",\n",
    "    \"State_WI\", \"State_WV\", \"State_WY\",\n",
    "]\n",
    "\n",
    "TARGET_COL = \"Churn\""
   ]
  },
  {
   "cell_type": "code",
   "execution_count": 9,
   "metadata": {},
   "outputs": [],
   "source": [
    "train_data, eval_data, test_data = np.split(\n",
    "    model_data.sample(frac=1, random_state=1729),\n",
    "    [int(0.7 * len(model_data)), int(0.9 * len(model_data))])\n",
    "\n",
    "X_train = train_data[FEATURE_COLS]\n",
    "y_train = train_data[TARGET_COL]\n",
    "\n",
    "X_val = eval_data[FEATURE_COLS]\n",
    "y_val = eval_data[TARGET_COL]\n",
    "\n",
    "X_test = test_data[FEATURE_COLS]\n",
    "y_test = test_data[TARGET_COL]"
   ]
  },
  {
   "cell_type": "markdown",
   "metadata": {},
   "source": [
    "## Train model\n",
    "\n",
    "We use **LightGBM**: a gradient boosting framework that uses tree based learning algorithms."
   ]
  },
  {
   "cell_type": "code",
   "execution_count": 10,
   "metadata": {
    "scrolled": true
   },
   "outputs": [
    {
     "data": {
      "text/plain": [
       "LGBMClassifier(learning_rate=0.05, num_leaves=10)"
      ]
     },
     "execution_count": 10,
     "metadata": {},
     "output_type": "execute_result"
    }
   ],
   "source": [
    "clf = lgb.LGBMClassifier(num_leaves=10, learning_rate=0.05, n_estimators=100)\n",
    "clf.fit(\n",
    "    X_train,\n",
    "    y_train,\n",
    "    eval_set=[(X_val, y_val)],\n",
    "    eval_metric=lgb_roc_auc_score,\n",
    "    verbose=False,\n",
    ")"
   ]
  },
  {
   "cell_type": "code",
   "execution_count": 11,
   "metadata": {},
   "outputs": [
    {
     "data": {
      "image/png": "[encoded data removed]",
      "text/plain": [
       "<Figure size 864x288 with 2 Axes>"
      ]
     },
     "metadata": {
      "needs_background": "light"
     },
     "output_type": "display_data"
    }
   ],
   "source": [
    "fig, axs = plt.subplots(1, 2, figsize=(12, 4))\n",
    "lgb.plot_metric(clf, \"roc_auc\", ax=axs[0])\n",
    "lgb.plot_metric(clf, \"binary_logloss\", ax=axs[1])\n",
    "plt.show()"
   ]
  },
  {
   "cell_type": "markdown",
   "metadata": {},
   "source": [
    "## Evaluate using test set"
   ]
  },
  {
   "cell_type": "code",
   "execution_count": 12,
   "metadata": {},
   "outputs": [
    {
     "name": "stdout",
     "output_type": "stream",
     "text": [
      "Confusion matrix:\n",
      "[[283   3]\n",
      " [ 11  37]] \n",
      "\n",
      "              precision    recall  f1-score   support\n",
      "\n",
      "           0       0.96      0.99      0.98       286\n",
      "           1       0.93      0.77      0.84        48\n",
      "\n",
      "    accuracy                           0.96       334\n",
      "   macro avg       0.94      0.88      0.91       334\n",
      "weighted avg       0.96      0.96      0.96       334\n",
      "\n"
     ]
    }
   ],
   "source": [
    "y_probs = clf.predict_proba(X_test)[:,1]\n",
    "\n",
    "print_results(y_test, y_probs)"
   ]
  },
  {
   "cell_type": "code",
   "execution_count": 13,
   "metadata": {
    "scrolled": false
   },
   "outputs": [
    {
     "data": {
      "image/png": "[encoded data removed]",
      "text/plain": [
       "<Figure size 864x288 with 2 Axes>"
      ]
     },
     "metadata": {
      "needs_background": "light"
     },
     "output_type": "display_data"
    }
   ],
   "source": [
    "fig, axs = plt.subplots(1, 2, figsize=(12, 4))\n",
    "plot_pr_curve(y_test, y_probs, axs[0])\n",
    "plot_roc_curve(y_test, y_probs, axs[1])\n",
    "plt.show()"
   ]
  },
  {
   "cell_type": "markdown",
   "metadata": {},
   "source": [
    "## Explainability\n",
    "\n",
    "We shall use `bedrock_client.bedrock.analyzer.model_analyzer` to compute SHAP values. Refer to [documentation](https://docs.basis-ai.com/guides/explainability-and-fairness/explainability) for more details."
   ]
  },
  {
   "cell_type": "code",
   "execution_count": 14,
   "metadata": {
    "scrolled": false
   },
   "outputs": [
    {
     "name": "stdout",
     "output_type": "stream",
     "text": [
      "Help on class ModelAnalyzer in module bedrock_client.bedrock.analyzer.model_analyzer:\n",
      "\n",
      "class ModelAnalyzer(builtins.object)\n",
      " |  ModelAnalyzer(model, model_name: str, model_type: Union[bedrock_client.bedrock.analyzer.type.ModelTypes, NoneType] = None, description: str = '')\n",
      " |  \n",
      " |  Methods defined here:\n",
      " |  \n",
      " |  __init__(self, model, model_name: str, model_type: Union[bedrock_client.bedrock.analyzer.type.ModelTypes, NoneType] = None, description: str = '')\n",
      " |      Object to capture model info and xafai metrics\n",
      " |      \n",
      " |      :param model: the target model\n",
      " |      :type model: Any\n",
      " |      :param model_name: model name e.g \"Churn prediction model\"\n",
      " |      :type model_name: str\n",
      " |      :param model_type: type of model, needed to use the correct explainer, defaults to None\n",
      " |      which require setting predict_func\n",
      " |      :type model_type: Optional[ModelTypes], optional\n",
      " |      :param description: long description of the model\n",
      " |      e.g \"Model to predict customer churn, trained with public dataset\", defaults to \"\"\n",
      " |      :type description: str, optional\n",
      " |  \n",
      " |  analyze(self)\n",
      " |      Generating xafai metrics with model info and store on Bedrock\n",
      " |      \n",
      " |      :return:\n",
      " |      \n",
      " |          - shap_values: individual shap values corresponding for each inference on test_feature\n",
      " |          - base_values: mean of model output over the training data set\n",
      " |          - global_xai_data:  summary of effect each feature has on inference.\n",
      " |              Includes mean shap value of the feature and correlation coefficient with inference\n",
      " |              result\n",
      " |          - fairness_metrics: a combination of fairness measure and confusion matrices,\n",
      " |              based on fairness_config\n",
      " |      \n",
      " |      :rtype: Tuple\n",
      " |  \n",
      " |  fairness_config(self, config: Dict[str, Dict[str, List]])\n",
      " |      Setting fairness configuration used for generating fairness metrics\n",
      " |      \n",
      " |      Required for generating fairness metrics\n",
      " |      \n",
      " |      :param config: config dictionary.\n",
      " |      \n",
      " |      Example::\n",
      " |      \n",
      " |              {\n",
      " |                  \"FEATURE_NAME\": {\n",
      " |                      \"unprivileged_attribute_values\": [\"privileged value\"],\n",
      " |                      \"privileged_attribute_values\": [\"unprivileged value\"]\n",
      " |                  }\n",
      " |              }\n",
      " |      \n",
      " |      :type config: Dict[str,  Dict[str, List]\n",
      " |  \n",
      " |  predict_func(self, f: Callable[..., Any])\n",
      " |      Setting predict function to use with model\n",
      " |      \n",
      " |      :param f: the predict function to use\n",
      " |      :type f: Callable[..., Any]\n",
      " |  \n",
      " |  stored_sample_limit(self, sample_limit: Union[int, NoneType])\n",
      " |      Setting limit the number of samples stored\n",
      " |      Set to None to store everything in the feature dataframe\n",
      " |      \n",
      " |      :param sample_limit: number of samples stored\n",
      " |      :type sample_limit: Optional[int]\n",
      " |  \n",
      " |  test_features(self, df: pandas.core.frame.DataFrame)\n",
      " |      Setting test data used for calculating explainability and fairness metrics\n",
      " |      \n",
      " |      :param df: dataframe of training data\n",
      " |      :type df: pandas.DataFrame\n",
      " |  \n",
      " |  test_inference(self, y: <built-in function array>)\n",
      " |      Setting model inference results done on test_features\n",
      " |      Used for calculating fairness metrics\n",
      " |      \n",
      " |      :param y: array of inference result\n",
      " |      :type y: numpy.array\n",
      " |  \n",
      " |  test_labels(self, labels: <built-in function array>)\n",
      " |      Setting groundtruth labels of test set data test_features\n",
      " |      Used for calculating fairness metrics\n",
      " |      \n",
      " |      :param labels: Label for each row of test set data\n",
      " |      :type labels: numpy.array\n",
      " |  \n",
      " |  train_features(self, df: pandas.core.frame.DataFrame)\n",
      " |      Setting training data used to generate the model\n",
      " |      \n",
      " |      :param df: dataframe of training data\n",
      " |      :type df: pandas.DataFrame\n",
      " |  \n",
      " |  ----------------------------------------------------------------------\n",
      " |  Data descriptors defined here:\n",
      " |  \n",
      " |  __dict__\n",
      " |      dictionary for instance variables (if defined)\n",
      " |  \n",
      " |  __weakref__\n",
      " |      list of weak references to the object (if defined)\n",
      "\n"
     ]
    }
   ],
   "source": [
    "help(ModelAnalyzer)"
   ]
  },
  {
   "cell_type": "code",
   "execution_count": 15,
   "metadata": {},
   "outputs": [
    {
     "name": "stderr",
     "output_type": "stream",
     "text": [
      "Setting feature_perturbation = \"tree_path_dependent\" because no background data was given.\n",
      "LightGBM binary classifier with TreeExplainer shap values output has changed to a list of ndarray\n"
     ]
    }
   ],
   "source": [
    "analyzer = ModelAnalyzer(clf, \"churn_prediction\", model_type=ModelTypes.TREE)\n",
    "analyzer.test_features(X_test)  # To set test data used for calculating explainability and fairness metrics\n",
    "analyzer.stored_sample_limit(sample_limit=None)  # To output all SHAP values for the test data\n",
    "(shap_values, base_values, global_xai_data, fairness_metrics) = analyzer.analyze()"
   ]
  },
  {
   "cell_type": "code",
   "execution_count": 16,
   "metadata": {},
   "outputs": [
    {
     "data": {
      "image/png": "[encoded data removed]",
      "text/plain": [
       "<Figure size 576x396 with 1 Axes>"
      ]
     },
     "metadata": {
      "needs_background": "light"
     },
     "output_type": "display_data"
    },
    {
     "data": {
      "image/png": "[encoded data removed]",
      "text/plain": [
       "<Figure size 576x396 with 2 Axes>"
      ]
     },
     "metadata": {
      "needs_background": "light"
     },
     "output_type": "display_data"
    }
   ],
   "source": [
    "# Global XAI: summarize the effects of all the features\n",
    "\n",
    "# We use the SHAP values that correspond to `Churn=1`, ie shap_values[1]\n",
    "shap.summary_plot(shap_values[1], X_test, plot_type=\"bar\", max_display=10)\n",
    "shap.summary_plot(shap_values[1], X_test, max_display=10)"
   ]
  },
  {
   "cell_type": "markdown",
   "metadata": {},
   "source": [
    "### Analyzer outputs\n",
    "\n",
    "#### SHAP values\n",
    "Array of SHAP values calculated on provided `test_features`"
   ]
  },
  {
   "cell_type": "code",
   "execution_count": 17,
   "metadata": {},
   "outputs": [
    {
     "data": {
      "text/html": [
       "[array([[ 0.15419714, -0.04348571, -0.00862618, ...,  0.        ,\n",
       "         0.        ,  0.        ],\n",
       "       [ 0.15260342,  0.16744947,  0.03276369, ...,  0.        ,\n",
       "         0.        ,  0.        ],\n",
       "       [ 0.15149579,  0.14623928,  0.02765375, ...,  0.        ,\n",
       "         0.        ,  0.        ],\n",
       "       ...,\n",
       "       [ 0.14821897, -0.06448763, -0.01022431, ...,  0.        ,\n",
       "         0.        ,  0.        ],\n",
       "       [ 0.13996391,  0.10384648, -0.01747385, ...,  0.        ,\n",
       "         0.        ,  0.        ],\n",
       "       [ 0.15095047, -0.0614824 , -0.00992499, ...,  0.        ,\n",
       "         0.        ,  0.        ]]), array([[-0.15419714,  0.04348571,  0.00862618, ...,  0.        ,\n",
       "         0.        ,  0.        ],\n",
       "       [-0.15260342, -0.16744947, -0.03276369, ...,  0.        ,\n",
       "         0.        ,  0.        ],\n",
       "       [-0.15149579, -0.14623928, -0.02765375, ...,  0.        ,\n",
       "         0.        ,  0.        ],\n",
       "       ...,\n",
       "       [-0.14821897,  0.06448763,  0.01022431, ...,  0.        ,\n",
       "         0.        ,  0.        ],\n",
       "       [-0.13996391, -0.10384648,  0.01747385, ...,  0.        ,\n",
       "         0.        ,  0.        ],\n",
       "       [-0.15095047,  0.0614824 ,  0.00992499, ...,  0.        ,\n",
       "         0.        ,  0.        ]])]"
      ],
      "text/plain": [
       "[array([[ 0.15419714, -0.04348571, -0.00862618, ...,  0.        ,\n",
       "          0.        ,  0.        ],\n",
       "        [ 0.15260342,  0.16744947,  0.03276369, ...,  0.        ,\n",
       "          0.        ,  0.        ],\n",
       "        [ 0.15149579,  0.14623928,  0.02765375, ...,  0.        ,\n",
       "          0.        ,  0.        ],\n",
       "        ...,\n",
       "        [ 0.14821897, -0.06448763, -0.01022431, ...,  0.        ,\n",
       "          0.        ,  0.        ],\n",
       "        [ 0.13996391,  0.10384648, -0.01747385, ...,  0.        ,\n",
       "          0.        ,  0.        ],\n",
       "        [ 0.15095047, -0.0614824 , -0.00992499, ...,  0.        ,\n",
       "          0.        ,  0.        ]]),\n",
       " array([[-0.15419714,  0.04348571,  0.00862618, ...,  0.        ,\n",
       "          0.        ,  0.        ],\n",
       "        [-0.15260342, -0.16744947, -0.03276369, ...,  0.        ,\n",
       "          0.        ,  0.        ],\n",
       "        [-0.15149579, -0.14623928, -0.02765375, ...,  0.        ,\n",
       "          0.        ,  0.        ],\n",
       "        ...,\n",
       "        [-0.14821897,  0.06448763,  0.01022431, ...,  0.        ,\n",
       "          0.        ,  0.        ],\n",
       "        [-0.13996391, -0.10384648,  0.01747385, ...,  0.        ,\n",
       "          0.        ,  0.        ],\n",
       "        [-0.15095047,  0.0614824 ,  0.00992499, ...,  0.        ,\n",
       "          0.        ,  0.        ]])]"
      ]
     },
     "execution_count": 17,
     "metadata": {},
     "output_type": "execute_result"
    }
   ],
   "source": [
    "shap_values"
   ]
  },
  {
   "cell_type": "markdown",
   "metadata": {},
   "source": [
    "### Base value\n",
    "Base value is the average model output calculated on background data"
   ]
  },
  {
   "cell_type": "code",
   "execution_count": 18,
   "metadata": {},
   "outputs": [
    {
     "data": {
      "text/plain": [
       "array([ 2.77583732, -2.77583732])"
      ]
     },
     "execution_count": 18,
     "metadata": {},
     "output_type": "execute_result"
    }
   ],
   "source": [
    "base_values"
   ]
  },
  {
   "cell_type": "markdown",
   "metadata": {},
   "source": [
    "### Global XAI data\n",
    "Global XAI returns the mean absolute shap values of each feature, together with its correlation with said feature"
   ]
  },
  {
   "cell_type": "code",
   "execution_count": 19,
   "metadata": {},
   "outputs": [
    {
     "data": {
      "text/plain": [
       "{'class 0': {'Intl_Plan': {'mean_abs_shap': 0.3416984816536754,\n",
       "   'corrcoeff': -0.8558816398653132},\n",
       "  'VMail_Plan': {'mean_abs_shap': 0.15347782011263866,\n",
       "   'corrcoeff': 0.6316565031022904},\n",
       "  'VMail_Message': {'mean_abs_shap': 0.014407983149682087,\n",
       "   'corrcoeff': 0.5822601663755165},\n",
       "  'CustServ_Calls': {'mean_abs_shap': 0.41950075604730885,\n",
       "   'corrcoeff': -0.6608641695134181},\n",
       "  'Day_Mins': {'mean_abs_shap': 0.6612193602364144,\n",
       "   'corrcoeff': -0.5913242243700629},\n",
       "  'Day_Calls': {'mean_abs_shap': 0.03603180900886865,\n",
       "   'corrcoeff': -0.48810547790725767},\n",
       "  'Eve_Mins': {'mean_abs_shap': 0.21033013070306433,\n",
       "   'corrcoeff': -0.6015290629150741},\n",
       "  'Eve_Calls': {'mean_abs_shap': 0.024155532770087022,\n",
       "   'corrcoeff': -0.4041953329091185},\n",
       "  'Night_Mins': {'mean_abs_shap': 0.09698601182853084,\n",
       "   'corrcoeff': -0.5647166917479624},\n",
       "  'Night_Calls': {'mean_abs_shap': 0.10004586125132871,\n",
       "   'corrcoeff': -0.5447652356199645},\n",
       "  'Intl_Mins': {'mean_abs_shap': 0.1225493365905302,\n",
       "   'corrcoeff': -0.436373246397982},\n",
       "  'Intl_Calls': {'mean_abs_shap': 0.14515969899250836,\n",
       "   'corrcoeff': 0.4871296020843518},\n",
       "  'Area_Code_408': {'mean_abs_shap': 0.0, 'corrcoeff': None},\n",
       "  'Area_Code_415': {'mean_abs_shap': 0.0010204180855586478,\n",
       "   'corrcoeff': 0.26479614074564894},\n",
       "  'Area_Code_510': {'mean_abs_shap': 0.005246150443909654,\n",
       "   'corrcoeff': 0.944347410347086},\n",
       "  'State_AK': {'mean_abs_shap': 0.0, 'corrcoeff': None},\n",
       "  'State_AL': {'mean_abs_shap': 0.0019821251456379305,\n",
       "   'corrcoeff': 0.9528978410452001},\n",
       "  'State_AR': {'mean_abs_shap': 0.0, 'corrcoeff': None},\n",
       "  'State_AZ': {'mean_abs_shap': 0.016858717457193872,\n",
       "   'corrcoeff': 0.9945036340284151},\n",
       "  'State_CA': {'mean_abs_shap': 0.0038570533703293085,\n",
       "   'corrcoeff': -0.9997446964012394},\n",
       "  'State_CO': {'mean_abs_shap': 0.0, 'corrcoeff': None},\n",
       "  'State_CT': {'mean_abs_shap': 0.0, 'corrcoeff': None},\n",
       "  'State_DC': {'mean_abs_shap': 0.0, 'corrcoeff': None},\n",
       "  'State_DE': {'mean_abs_shap': 0.0, 'corrcoeff': None},\n",
       "  'State_FL': {'mean_abs_shap': 0.0, 'corrcoeff': None},\n",
       "  'State_GA': {'mean_abs_shap': 0.0, 'corrcoeff': None},\n",
       "  'State_HI': {'mean_abs_shap': 0.015477854770050176,\n",
       "   'corrcoeff': 0.9995205078148047},\n",
       "  'State_IA': {'mean_abs_shap': 0.0, 'corrcoeff': None},\n",
       "  'State_ID': {'mean_abs_shap': 0.0, 'corrcoeff': None},\n",
       "  'State_IL': {'mean_abs_shap': 0.010718527357371332,\n",
       "   'corrcoeff': 0.993063623170853},\n",
       "  'State_IN': {'mean_abs_shap': 0.0016081771454424176,\n",
       "   'corrcoeff': 0.9994581768539984},\n",
       "  'State_KS': {'mean_abs_shap': 0.0, 'corrcoeff': None},\n",
       "  'State_KY': {'mean_abs_shap': 0.0, 'corrcoeff': None},\n",
       "  'State_LA': {'mean_abs_shap': 0.0, 'corrcoeff': None},\n",
       "  'State_MA': {'mean_abs_shap': 0.006765831522408361,\n",
       "   'corrcoeff': -0.9616428706396714},\n",
       "  'State_MD': {'mean_abs_shap': 0.0, 'corrcoeff': None},\n",
       "  'State_ME': {'mean_abs_shap': 0.0, 'corrcoeff': None},\n",
       "  'State_MI': {'mean_abs_shap': 0.0, 'corrcoeff': None},\n",
       "  'State_MN': {'mean_abs_shap': 0.0, 'corrcoeff': None},\n",
       "  'State_MO': {'mean_abs_shap': 0.0, 'corrcoeff': None},\n",
       "  'State_MS': {'mean_abs_shap': 0.006252361186336665,\n",
       "   'corrcoeff': -0.9395887857328902},\n",
       "  'State_MT': {'mean_abs_shap': 0.012598524120751154,\n",
       "   'corrcoeff': -0.9860997550484901},\n",
       "  'State_NC': {'mean_abs_shap': 0.0, 'corrcoeff': None},\n",
       "  'State_ND': {'mean_abs_shap': 0.0, 'corrcoeff': None},\n",
       "  'State_NE': {'mean_abs_shap': 0.0, 'corrcoeff': None},\n",
       "  'State_NH': {'mean_abs_shap': 0.0, 'corrcoeff': None},\n",
       "  'State_NJ': {'mean_abs_shap': 0.016329900597036928,\n",
       "   'corrcoeff': -0.9815132561072487},\n",
       "  'State_NM': {'mean_abs_shap': 0.0, 'corrcoeff': None},\n",
       "  'State_NV': {'mean_abs_shap': 0.0, 'corrcoeff': None},\n",
       "  'State_NY': {'mean_abs_shap': 0.0, 'corrcoeff': None},\n",
       "  'State_OH': {'mean_abs_shap': 0.0, 'corrcoeff': None},\n",
       "  'State_OK': {'mean_abs_shap': 0.0, 'corrcoeff': None},\n",
       "  'State_OR': {'mean_abs_shap': 0.0, 'corrcoeff': None},\n",
       "  'State_PA': {'mean_abs_shap': 0.0, 'corrcoeff': None},\n",
       "  'State_RI': {'mean_abs_shap': 0.0, 'corrcoeff': None},\n",
       "  'State_SC': {'mean_abs_shap': 0.002290057230139879,\n",
       "   'corrcoeff': -0.9851319836906706},\n",
       "  'State_SD': {'mean_abs_shap': 0.0, 'corrcoeff': None},\n",
       "  'State_TN': {'mean_abs_shap': 0.0, 'corrcoeff': None},\n",
       "  'State_TX': {'mean_abs_shap': 0.032413658619981224,\n",
       "   'corrcoeff': -0.9836255402825379},\n",
       "  'State_UT': {'mean_abs_shap': 0.0, 'corrcoeff': None},\n",
       "  'State_VA': {'mean_abs_shap': 0.017590575914857375,\n",
       "   'corrcoeff': 0.9921105745916403},\n",
       "  'State_VT': {'mean_abs_shap': 0.0014395768484092896,\n",
       "   'corrcoeff': 0.9461217517401918},\n",
       "  'State_WA': {'mean_abs_shap': 0.0, 'corrcoeff': None},\n",
       "  'State_WI': {'mean_abs_shap': 0.0, 'corrcoeff': None},\n",
       "  'State_WV': {'mean_abs_shap': 0.0, 'corrcoeff': None},\n",
       "  'State_WY': {'mean_abs_shap': 0.0, 'corrcoeff': None}},\n",
       " 'class 1': {'Intl_Plan': {'mean_abs_shap': 0.3416984816536754,\n",
       "   'corrcoeff': 0.8558816398653132},\n",
       "  'VMail_Plan': {'mean_abs_shap': 0.15347782011263866,\n",
       "   'corrcoeff': -0.6316565031022904},\n",
       "  'VMail_Message': {'mean_abs_shap': 0.014407983149682087,\n",
       "   'corrcoeff': -0.5822601663755165},\n",
       "  'CustServ_Calls': {'mean_abs_shap': 0.41950075604730885,\n",
       "   'corrcoeff': 0.6608641695134181},\n",
       "  'Day_Mins': {'mean_abs_shap': 0.6612193602364144,\n",
       "   'corrcoeff': 0.5913242243700629},\n",
       "  'Day_Calls': {'mean_abs_shap': 0.03603180900886865,\n",
       "   'corrcoeff': 0.48810547790725767},\n",
       "  'Eve_Mins': {'mean_abs_shap': 0.21033013070306433,\n",
       "   'corrcoeff': 0.6015290629150741},\n",
       "  'Eve_Calls': {'mean_abs_shap': 0.024155532770087022,\n",
       "   'corrcoeff': 0.4041953329091185},\n",
       "  'Night_Mins': {'mean_abs_shap': 0.09698601182853084,\n",
       "   'corrcoeff': 0.5647166917479624},\n",
       "  'Night_Calls': {'mean_abs_shap': 0.10004586125132871,\n",
       "   'corrcoeff': 0.5447652356199645},\n",
       "  'Intl_Mins': {'mean_abs_shap': 0.1225493365905302,\n",
       "   'corrcoeff': 0.436373246397982},\n",
       "  'Intl_Calls': {'mean_abs_shap': 0.14515969899250836,\n",
       "   'corrcoeff': -0.4871296020843518},\n",
       "  'Area_Code_408': {'mean_abs_shap': 0.0, 'corrcoeff': None},\n",
       "  'Area_Code_415': {'mean_abs_shap': 0.0010204180855586478,\n",
       "   'corrcoeff': -0.26479614074564894},\n",
       "  'Area_Code_510': {'mean_abs_shap': 0.005246150443909654,\n",
       "   'corrcoeff': -0.944347410347086},\n",
       "  'State_AK': {'mean_abs_shap': 0.0, 'corrcoeff': None},\n",
       "  'State_AL': {'mean_abs_shap': 0.0019821251456379305,\n",
       "   'corrcoeff': -0.9528978410452001},\n",
       "  'State_AR': {'mean_abs_shap': 0.0, 'corrcoeff': None},\n",
       "  'State_AZ': {'mean_abs_shap': 0.016858717457193872,\n",
       "   'corrcoeff': -0.9945036340284151},\n",
       "  'State_CA': {'mean_abs_shap': 0.0038570533703293085,\n",
       "   'corrcoeff': 0.9997446964012394},\n",
       "  'State_CO': {'mean_abs_shap': 0.0, 'corrcoeff': None},\n",
       "  'State_CT': {'mean_abs_shap': 0.0, 'corrcoeff': None},\n",
       "  'State_DC': {'mean_abs_shap': 0.0, 'corrcoeff': None},\n",
       "  'State_DE': {'mean_abs_shap': 0.0, 'corrcoeff': None},\n",
       "  'State_FL': {'mean_abs_shap': 0.0, 'corrcoeff': None},\n",
       "  'State_GA': {'mean_abs_shap': 0.0, 'corrcoeff': None},\n",
       "  'State_HI': {'mean_abs_shap': 0.015477854770050176,\n",
       "   'corrcoeff': -0.9995205078148047},\n",
       "  'State_IA': {'mean_abs_shap': 0.0, 'corrcoeff': None},\n",
       "  'State_ID': {'mean_abs_shap': 0.0, 'corrcoeff': None},\n",
       "  'State_IL': {'mean_abs_shap': 0.010718527357371332,\n",
       "   'corrcoeff': -0.993063623170853},\n",
       "  'State_IN': {'mean_abs_shap': 0.0016081771454424176,\n",
       "   'corrcoeff': -0.9994581768539984},\n",
       "  'State_KS': {'mean_abs_shap': 0.0, 'corrcoeff': None},\n",
       "  'State_KY': {'mean_abs_shap': 0.0, 'corrcoeff': None},\n",
       "  'State_LA': {'mean_abs_shap': 0.0, 'corrcoeff': None},\n",
       "  'State_MA': {'mean_abs_shap': 0.006765831522408361,\n",
       "   'corrcoeff': 0.9616428706396714},\n",
       "  'State_MD': {'mean_abs_shap': 0.0, 'corrcoeff': None},\n",
       "  'State_ME': {'mean_abs_shap': 0.0, 'corrcoeff': None},\n",
       "  'State_MI': {'mean_abs_shap': 0.0, 'corrcoeff': None},\n",
       "  'State_MN': {'mean_abs_shap': 0.0, 'corrcoeff': None},\n",
       "  'State_MO': {'mean_abs_shap': 0.0, 'corrcoeff': None},\n",
       "  'State_MS': {'mean_abs_shap': 0.006252361186336665,\n",
       "   'corrcoeff': 0.9395887857328902},\n",
       "  'State_MT': {'mean_abs_shap': 0.012598524120751154,\n",
       "   'corrcoeff': 0.9860997550484901},\n",
       "  'State_NC': {'mean_abs_shap': 0.0, 'corrcoeff': None},\n",
       "  'State_ND': {'mean_abs_shap': 0.0, 'corrcoeff': None},\n",
       "  'State_NE': {'mean_abs_shap': 0.0, 'corrcoeff': None},\n",
       "  'State_NH': {'mean_abs_shap': 0.0, 'corrcoeff': None},\n",
       "  'State_NJ': {'mean_abs_shap': 0.016329900597036928,\n",
       "   'corrcoeff': 0.9815132561072487},\n",
       "  'State_NM': {'mean_abs_shap': 0.0, 'corrcoeff': None},\n",
       "  'State_NV': {'mean_abs_shap': 0.0, 'corrcoeff': None},\n",
       "  'State_NY': {'mean_abs_shap': 0.0, 'corrcoeff': None},\n",
       "  'State_OH': {'mean_abs_shap': 0.0, 'corrcoeff': None},\n",
       "  'State_OK': {'mean_abs_shap': 0.0, 'corrcoeff': None},\n",
       "  'State_OR': {'mean_abs_shap': 0.0, 'corrcoeff': None},\n",
       "  'State_PA': {'mean_abs_shap': 0.0, 'corrcoeff': None},\n",
       "  'State_RI': {'mean_abs_shap': 0.0, 'corrcoeff': None},\n",
       "  'State_SC': {'mean_abs_shap': 0.002290057230139879,\n",
       "   'corrcoeff': 0.9851319836906706},\n",
       "  'State_SD': {'mean_abs_shap': 0.0, 'corrcoeff': None},\n",
       "  'State_TN': {'mean_abs_shap': 0.0, 'corrcoeff': None},\n",
       "  'State_TX': {'mean_abs_shap': 0.032413658619981224,\n",
       "   'corrcoeff': 0.9836255402825379},\n",
       "  'State_UT': {'mean_abs_shap': 0.0, 'corrcoeff': None},\n",
       "  'State_VA': {'mean_abs_shap': 0.017590575914857375,\n",
       "   'corrcoeff': -0.9921105745916403},\n",
       "  'State_VT': {'mean_abs_shap': 0.0014395768484092896,\n",
       "   'corrcoeff': -0.9461217517401918},\n",
       "  'State_WA': {'mean_abs_shap': 0.0, 'corrcoeff': None},\n",
       "  'State_WI': {'mean_abs_shap': 0.0, 'corrcoeff': None},\n",
       "  'State_WV': {'mean_abs_shap': 0.0, 'corrcoeff': None},\n",
       "  'State_WY': {'mean_abs_shap': 0.0, 'corrcoeff': None}}}"
      ]
     },
     "execution_count": 19,
     "metadata": {},
     "output_type": "execute_result"
    }
   ],
   "source": [
    "global_xai_data"
   ]
  },
  {
   "cell_type": "markdown",
   "metadata": {},
   "source": [
    "### Fairness metrics\n",
    "\n",
    "Fairness metrics are empty since no fairness config was passed"
   ]
  },
  {
   "cell_type": "code",
   "execution_count": 20,
   "metadata": {},
   "outputs": [],
   "source": [
    "fairness_metrics"
   ]
  }
 ],
 "metadata": {
  "kernelspec": {
   "display_name": "Python 3",
   "language": "python",
   "name": "python3"
  },
  "language_info": {
   "codemirror_mode": {
    "name": "ipython",
    "version": 3
   },
   "file_extension": ".py",
   "mimetype": "text/x-python",
   "name": "python",
   "nbconvert_exporter": "python",
   "pygments_lexer": "ipython3",
   "version": "3.7.4"
  }
 },
 "nbformat": 4,
 "nbformat_minor": 2
}
